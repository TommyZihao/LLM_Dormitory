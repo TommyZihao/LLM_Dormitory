{
 "cells": [
  {
   "cell_type": "markdown",
   "id": "125296ed-302b-4956-b801-1b807b634b47",
   "metadata": {},
   "source": [
    "# 千帆ModelBuilder模型API调用-代码模板二-SDK\n",
    "\n",
    "同济子豪兄、东哥Talk\n",
    "\n",
    "2024-2-21\n",
    "\n",
    "## 参考文档\n",
    "\n",
    "https://cloud.baidu.com/doc/WENXINWORKSHOP/s/3lmokh7n6"
   ]
  },
  {
   "cell_type": "markdown",
   "id": "341badf6-70df-4b6b-b79c-c3c9db92bd64",
   "metadata": {},
   "source": [
    "## 安装千帆SDK"
   ]
  },
  {
   "cell_type": "code",
   "execution_count": 10,
   "id": "2b00e2f9-b4bf-4e2d-a6ef-962b8f155782",
   "metadata": {},
   "outputs": [],
   "source": [
    "%pip install qianfan --upgrade"
   ]
  },
  {
   "cell_type": "markdown",
   "id": "0ff9fa0a-4143-476d-8b89-eeb2c8c995f4",
   "metadata": {},
   "source": [
    "## 账号的API Key和Secret Key\n",
    "\n",
    "右上角-头像-安全认证-创建Access Key"
   ]
  },
  {
   "cell_type": "code",
   "execution_count": 11,
   "id": "3f3ef569-dfe3-4237-a9a6-22e7bf6c518c",
   "metadata": {},
   "outputs": [],
   "source": [
    "import os\n",
    "import json\n",
    "\n",
    "os.environ[\"QIANFAN_ACCESS_KEY\"] = \"ALTAKdRy5rPIm7UYAyLXXXXXXX\"\n",
    "os.environ[\"QIANFAN_SECRET_KEY\"] = \"bdc703ce12ab47ddb4abba721XXXXXXX\""
   ]
  },
  {
   "cell_type": "markdown",
   "id": "2932d5a2-b896-4d98-8d33-d57e5ccf2226",
   "metadata": {},
   "source": [
    "## 获取模型API"
   ]
  },
  {
   "cell_type": "code",
   "execution_count": 12,
   "id": "fdf6d2e1-1536-42ef-b351-4bd03f0ce916",
   "metadata": {},
   "outputs": [],
   "source": [
    "from qianfan.resources.console.service import Service"
   ]
  },
  {
   "cell_type": "code",
   "execution_count": 13,
   "id": "70dc82c8-7d94-4a85-a7eb-2b3f60dbccee",
   "metadata": {},
   "outputs": [],
   "source": [
    "resp = Service.list([\"chat\"]) # 仅筛选 chat 服务"
   ]
  },
  {
   "cell_type": "code",
   "execution_count": 14,
   "id": "ea0f2851-1490-4254-831c-949cec1a171d",
   "metadata": {},
   "outputs": [],
   "source": [
    "result = resp.body[\"result\"][\"custom\"] # 自定义模型服务"
   ]
  },
  {
   "cell_type": "code",
   "execution_count": 15,
   "id": "9c3099fe-b2c5-4648-8360-1db7b108b032",
   "metadata": {},
   "outputs": [
    {
     "data": {
      "text/plain": [
       "[{'name': '春节灵感大模型服务V1',\n",
       "  'url': 'https://aip.baidubce.com/rpc/2.0/ai_custom/v1/wenxinworkshop/chat/cfcynzlt_longv1',\n",
       "  'apiType': 'chat',\n",
       "  'chargeStatus': 'FREE',\n",
       "  'versionList': [{'id': '6722',\n",
       "    'aiModelId': '13432',\n",
       "    'aiModelVersionId': '16786',\n",
       "    'trainType': 'ernieBotLite-speed',\n",
       "    'serviceStatus': 'Done'}]}]"
      ]
     },
     "execution_count": 15,
     "metadata": {},
     "output_type": "execute_result"
    }
   ],
   "source": [
    "result"
   ]
  },
  {
   "cell_type": "code",
   "execution_count": 16,
   "id": "6f92167b-07c3-4d9d-9ca2-b5b1cd3eb9ef",
   "metadata": {},
   "outputs": [],
   "source": [
    "endpoint = result[0][\"url\"].split(\"/\")[-1] # 获取自定义模型服务 endpoint"
   ]
  },
  {
   "cell_type": "code",
   "execution_count": 17,
   "id": "a50e1d02-37da-4363-bfab-0388710e6164",
   "metadata": {},
   "outputs": [
    {
     "data": {
      "text/plain": [
       "'cfcynzlt_longv1'"
      ]
     },
     "execution_count": 17,
     "metadata": {},
     "output_type": "execute_result"
    }
   ],
   "source": [
    "endpoint"
   ]
  },
  {
   "cell_type": "markdown",
   "id": "014d235c-bf7c-48da-ac16-88e3146e984c",
   "metadata": {},
   "source": [
    "## 调用模型API"
   ]
  },
  {
   "cell_type": "code",
   "execution_count": 23,
   "id": "49350789-16a7-42e5-aedc-ee9305a8b1d6",
   "metadata": {},
   "outputs": [
    {
     "name": "stderr",
     "output_type": "stream",
     "text": [
      "[INFO] [02-12 13:18:08] openapi_requestor.py:244 [t:140498457014656]: requesting llm api endpoint: /chat/cfcynzlt_longv1\n"
     ]
    }
   ],
   "source": [
    "# 初始化模型\n",
    "\n",
    "import qianfan\n",
    "\n",
    "chat_comp = qianfan.ChatCompletion()\n",
    "\n",
    "# 指定模型和提示词\n",
    "response = chat_comp.do(endpoint=endpoint, messages=[{\n",
    "    \"role\": \"user\",\n",
    "    \"content\": \"假如你是企业CEO，请以正式鼓励的风格为全公司员工撰写50字的春节祝福语。\"\n",
    "}])"
   ]
  },
  {
   "cell_type": "markdown",
   "id": "b84c8793-5b18-4031-907d-f1bc6edf3447",
   "metadata": {},
   "source": [
    "## 获取模型推理结果"
   ]
  },
  {
   "cell_type": "code",
   "execution_count": 24,
   "id": "c1a418f2-6f24-4848-afbb-a1eda76f579a",
   "metadata": {},
   "outputs": [
    {
     "data": {
      "text/plain": [
       "QfResponse(code=200, headers={'Access-Control-Allow-Headers': 'Content-Type', 'Access-Control-Allow-Origin': '*', 'Appid': '50777092', 'Connection': 'keep-alive', 'Content-Encoding': 'gzip', 'Content-Type': 'application/json; charset=utf-8', 'Date': 'Mon, 12 Feb 2024 05:18:10 GMT', 'P3p': 'CP=\" OTI DSP COR IVA OUR IND COM \"', 'Server': 'Apache', 'Set-Cookie': 'BAIDUID=D5F168AD6FF76CB3BE5C4EC5FE20EB31:FG=1; expires=Thu, 31-Dec-37 23:55:55 GMT; max-age=2145916555; path=/; domain=.baidu.com; version=1', 'Statement': 'AI-generated', 'Vary': 'Accept-Encoding', 'X-Aipe-Self-Def': 'eb_total_tokens:84,prompt_tokens:22,id:as-0ish0bx746', 'X-Baidu-Request-Id': 'sdk-py-0.3.1-AHh1QeBCGFBke8rf', 'X-Openapi-Server-Timestamp': '1707715088', 'Content-Length': '410'}, body={'id': 'as-0ish0bx746', 'object': 'chat.completion', 'created': 1707715090, 'result': '亲爱的团队成员们，值此新春佳节之际，向你们致以诚挚的祝福和感谢。过去一年，我们共同努力，取得了骄人的成绩。愿新的一年里，家庭幸福、事业成功，我们携手迎接更加辉煌的明天。祝大家春节快乐，万事如意！', 'is_truncated': False, 'need_clear_history': False, 'usage': {'prompt_tokens': 22, 'completion_tokens': 62, 'total_tokens': 84}}, statistic={'request_latency': 1.988335, 'total_latency': 1.989567635000185}, request=QfRequest(method='POST', url='https://aip.baidubce.com/rpc/2.0/ai_custom/v1/wenxinworkshop/chat/cfcynzlt_longv1?access_token=24.6a6ae1427141fb01d9dec0620d197a25.2592000.1710307035.282335-50777092', query={}, headers={'User-Agent': 'python-requests/2.31.0', 'Accept-Encoding': 'gzip, deflate, br', 'Accept': '*/*', 'Connection': 'keep-alive', 'Request_id': 'sdk-py-0.3.1-AHh1QeBCGFBke8rf', 'Content-Length': '326', 'Content-Type': 'application/json'}, json_body={'messages': [{'role': 'user', 'content': '假如你是企业CEO，请以正式鼓励的风格为全公司员工撰写50字的春节祝福语。'}], 'stream': False, 'extra_parameters': {'request_source': 'qianfan_py_sdk_v0.3.1'}}, retry_config=RetryConfig(retry_count=1, timeout=10, max_wait_interval=120, backoff_factor=1, jitter=1, retry_err_codes={})))"
      ]
     },
     "execution_count": 24,
     "metadata": {},
     "output_type": "execute_result"
    }
   ],
   "source": [
    "response"
   ]
  },
  {
   "cell_type": "code",
   "execution_count": 32,
   "id": "265b00c5-b6be-4cd2-864d-80a460f669e5",
   "metadata": {},
   "outputs": [
    {
     "data": {
      "text/plain": [
       "{'id': 'as-0ish0bx746',\n",
       " 'object': 'chat.completion',\n",
       " 'created': 1707715090,\n",
       " 'result': '亲爱的团队成员们，值此新春佳节之际，向你们致以诚挚的祝福和感谢。过去一年，我们共同努力，取得了骄人的成绩。愿新的一年里，家庭幸福、事业成功，我们携手迎接更加辉煌的明天。祝大家春节快乐，万事如意！',\n",
       " 'is_truncated': False,\n",
       " 'need_clear_history': False,\n",
       " 'usage': {'prompt_tokens': 22, 'completion_tokens': 62, 'total_tokens': 84}}"
      ]
     },
     "execution_count": 32,
     "metadata": {},
     "output_type": "execute_result"
    }
   ],
   "source": [
    "response['body']"
   ]
  },
  {
   "cell_type": "code",
   "execution_count": 33,
   "id": "12d72831-d72f-45cf-94dc-3212ceb5504c",
   "metadata": {},
   "outputs": [],
   "source": [
    "result = response[\"body\"]['result']"
   ]
  },
  {
   "cell_type": "code",
   "execution_count": 34,
   "id": "b60f446f-b44d-43b0-a953-f1a278038cd6",
   "metadata": {},
   "outputs": [
    {
     "data": {
      "text/plain": [
       "'亲爱的团队成员们，值此新春佳节之际，向你们致以诚挚的祝福和感谢。过去一年，我们共同努力，取得了骄人的成绩。愿新的一年里，家庭幸福、事业成功，我们携手迎接更加辉煌的明天。祝大家春节快乐，万事如意！'"
      ]
     },
     "execution_count": 34,
     "metadata": {},
     "output_type": "execute_result"
    }
   ],
   "source": [
    "result"
   ]
  },
  {
   "cell_type": "code",
   "execution_count": null,
   "id": "6d2bf2c7-299d-410f-9107-0b4417a0b996",
   "metadata": {},
   "outputs": [],
   "source": []
  },
  {
   "cell_type": "code",
   "execution_count": null,
   "id": "85d2469e-861a-4ee2-a28f-8b6aac5f99a3",
   "metadata": {},
   "outputs": [],
   "source": []
  }
 ],
 "metadata": {
  "kernelspec": {
   "display_name": "Python 3 (ipykernel)",
   "language": "python",
   "name": "python3"
  },
  "language_info": {
   "codemirror_mode": {
    "name": "ipython",
    "version": 3
   },
   "file_extension": ".py",
   "mimetype": "text/x-python",
   "name": "python",
   "nbconvert_exporter": "python",
   "pygments_lexer": "ipython3",
   "version": "3.10.12"
  }
 },
 "nbformat": 4,
 "nbformat_minor": 5
}

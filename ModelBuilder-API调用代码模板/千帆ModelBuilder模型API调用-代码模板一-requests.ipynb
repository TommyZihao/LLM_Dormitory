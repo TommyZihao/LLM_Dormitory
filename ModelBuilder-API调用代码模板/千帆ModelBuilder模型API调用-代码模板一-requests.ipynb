{
 "cells": [
  {
   "cell_type": "markdown",
   "id": "1bf704c1",
   "metadata": {},
   "source": [
    "# 千帆ModelBuilder模型API调用-代码模板一-requests\n",
    "\n",
    "同济子豪兄 2024-2-12"
   ]
  },
  {
   "cell_type": "markdown",
   "id": "8bc21408",
   "metadata": {},
   "source": [
    "## 导入工具包"
   ]
  },
  {
   "cell_type": "code",
   "execution_count": 2,
   "id": "df95d1e2",
   "metadata": {},
   "outputs": [],
   "source": [
    "import requests\n",
    "import json"
   ]
  },
  {
   "cell_type": "markdown",
   "id": "901191df",
   "metadata": {},
   "source": [
    "## 应用API Key、Secret Key"
   ]
  },
  {
   "cell_type": "code",
   "execution_count": 3,
   "id": "5f1d5a28",
   "metadata": {},
   "outputs": [],
   "source": [
    "API_KEY = 'LTYXutPWmCBienpeAXXXXXXX'\n",
    "SECRET_KEY = 'GMTxVBcdVEh9NXkqgF8pMl55hXXXXXXX'"
   ]
  },
  {
   "cell_type": "markdown",
   "id": "8e9e8e23",
   "metadata": {},
   "source": [
    "## 使用 AK，SK 生成鉴权签名（Access Token）"
   ]
  },
  {
   "cell_type": "code",
   "execution_count": 4,
   "id": "12f9d807",
   "metadata": {},
   "outputs": [],
   "source": [
    "url = \"https://aip.baidubce.com/oauth/2.0/token\"\n",
    "params = {\"grant_type\": \"client_credentials\", \"client_id\": API_KEY, \"client_secret\": SECRET_KEY}\n",
    "access_token = str(requests.post(url, params=params).json().get(\"access_token\"))"
   ]
  },
  {
   "cell_type": "code",
   "execution_count": 5,
   "id": "0b6dc207",
   "metadata": {},
   "outputs": [
    {
     "data": {
      "text/plain": [
       "'24.7a94761c1a9df5b3d7a9e9d809bb652f.2592000.1710306793.282335-50777092'"
      ]
     },
     "execution_count": 5,
     "metadata": {},
     "output_type": "execute_result"
    }
   ],
   "source": [
    "access_token"
   ]
  },
  {
   "cell_type": "markdown",
   "id": "ed427aa5",
   "metadata": {},
   "source": [
    "## 提示词"
   ]
  },
  {
   "cell_type": "code",
   "execution_count": 7,
   "id": "b5313446",
   "metadata": {},
   "outputs": [],
   "source": [
    "payload = json.dumps({\n",
    "    \"messages\": [\n",
    "        {\n",
    "            \"role\": \"user\",\n",
    "            \"content\": \"作为“I”人，如何在家庭群中发送讨长辈欢心的50字以内拜年语\"\n",
    "        }\n",
    "    ]\n",
    "})"
   ]
  },
  {
   "cell_type": "markdown",
   "id": "ce8c8053",
   "metadata": {},
   "source": [
    "## 填写在线服务地址"
   ]
  },
  {
   "cell_type": "code",
   "execution_count": 8,
   "id": "0f395450-0945-4379-917f-36a67c914b02",
   "metadata": {},
   "outputs": [],
   "source": [
    "url = \"https://aip.baidubce.com/rpc/2.0/ai_custom/v1/wenxinworkshop/chat/cfcynzlt_longv1?access_token=\" + access_token"
   ]
  },
  {
   "cell_type": "markdown",
   "id": "becbd7d5",
   "metadata": {},
   "source": [
    "## 调用API，发起请求"
   ]
  },
  {
   "cell_type": "code",
   "execution_count": 9,
   "id": "bdc89efe",
   "metadata": {},
   "outputs": [],
   "source": [
    "headers = {\n",
    "    'Content-Type': 'application/json'\n",
    "}\n",
    "\n",
    "response = requests.request(\"POST\", url, headers=headers, data=payload)\n",
    "\n",
    "response = json.loads(response.text)"
   ]
  },
  {
   "cell_type": "markdown",
   "id": "30b4afe9",
   "metadata": {},
   "source": [
    "## 获取调用结果"
   ]
  },
  {
   "cell_type": "code",
   "execution_count": 10,
   "id": "8eb50c32",
   "metadata": {},
   "outputs": [
    {
     "data": {
      "text/plain": [
       "{'id': 'as-biab9utmub',\n",
       " 'object': 'chat.completion',\n",
       " 'created': 1707714805,\n",
       " 'result': '亲爱的家人们，新春快乐！愿新的一年里，愿长辈们身体健康，精神愉快，每天都能开开心心，快快乐乐。愿我们大家庭团结和睦，幸福美满，新的一年书写精彩人生篇章。',\n",
       " 'is_truncated': False,\n",
       " 'need_clear_history': False,\n",
       " 'usage': {'prompt_tokens': 22, 'completion_tokens': 50, 'total_tokens': 72}}"
      ]
     },
     "execution_count": 10,
     "metadata": {},
     "output_type": "execute_result"
    }
   ],
   "source": [
    "response"
   ]
  },
  {
   "cell_type": "code",
   "execution_count": 11,
   "id": "076eee4e",
   "metadata": {},
   "outputs": [
    {
     "data": {
      "text/plain": [
       "'亲爱的家人们，新春快乐！愿新的一年里，愿长辈们身体健康，精神愉快，每天都能开开心心，快快乐乐。愿我们大家庭团结和睦，幸福美满，新的一年书写精彩人生篇章。'"
      ]
     },
     "execution_count": 11,
     "metadata": {},
     "output_type": "execute_result"
    }
   ],
   "source": [
    "response['result']"
   ]
  },
  {
   "cell_type": "code",
   "execution_count": null,
   "id": "dc28d73b-fd72-4251-8e78-3873c4578f11",
   "metadata": {},
   "outputs": [],
   "source": []
  }
 ],
 "metadata": {
  "kernelspec": {
   "display_name": "Python 3 (ipykernel)",
   "language": "python",
   "name": "python3"
  },
  "language_info": {
   "codemirror_mode": {
    "name": "ipython",
    "version": 3
   },
   "file_extension": ".py",
   "mimetype": "text/x-python",
   "name": "python",
   "nbconvert_exporter": "python",
   "pygments_lexer": "ipython3",
   "version": "3.10.12"
  }
 },
 "nbformat": 4,
 "nbformat_minor": 5
}
